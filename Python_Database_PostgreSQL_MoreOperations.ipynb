{
  "nbformat": 4,
  "nbformat_minor": 0,
  "metadata": {
    "colab": {
      "provenance": [],
      "authorship_tag": "ABX9TyOx77P1JshEf7H7tbivNI5y",
      "include_colab_link": true
    },
    "kernelspec": {
      "name": "python3",
      "display_name": "Python 3"
    },
    "language_info": {
      "name": "python"
    }
  },
  "cells": [
    {
      "cell_type": "markdown",
      "metadata": {
        "id": "view-in-github",
        "colab_type": "text"
      },
      "source": [
        "<a href=\"https://colab.research.google.com/github/xinxingwu-uk/Experiments_C_S/blob/main/Python_Database_PostgreSQL_MoreOperations.ipynb\" target=\"_parent\"><img src=\"https://colab.research.google.com/assets/colab-badge.svg\" alt=\"Open In Colab\"/></a>"
      ]
    },
    {
      "cell_type": "code",
      "execution_count": 1,
      "metadata": {
        "id": "vLPLTGJoc5x0"
      },
      "outputs": [],
      "source": [
        "import psycopg2\n",
        "\n",
        "conn = psycopg2.connect(database=\"teachingmidway/Hello\",\n",
        "                        host=\"db.bit.io\",\n",
        "                        user=\"teachingmidway\",\n",
        "                        password=\"v2_3ySHZ_N5CKDFECkVkPebRUNLMHbVn\",\n",
        "                        port=\"5432\")"
      ]
    },
    {
      "cell_type": "code",
      "source": [
        "# Create a cursor object\n",
        "cursor = conn.cursor()"
      ],
      "metadata": {
        "id": "Lb5Dq-W3gJSZ"
      },
      "execution_count": 2,
      "outputs": []
    },
    {
      "cell_type": "code",
      "source": [
        "# Run a query\n",
        "cursor.execute('SELECT username, password FROM users;')"
      ],
      "metadata": {
        "id": "X11eiKmupJe7"
      },
      "execution_count": 3,
      "outputs": []
    },
    {
      "cell_type": "code",
      "source": [
        "# Get all the rows for that query\n",
        "items = cursor.fetchall()"
      ],
      "metadata": {
        "id": "Ew4p0nYbpRyR"
      },
      "execution_count": 4,
      "outputs": []
    },
    {
      "cell_type": "code",
      "source": [
        "results=[{'username': item[0], 'password': item[1]} for item in items]"
      ],
      "metadata": {
        "id": "o1TxBFW1pR4a"
      },
      "execution_count": 5,
      "outputs": []
    },
    {
      "cell_type": "code",
      "source": [
        "#print(cursor.fetchone())\n",
        "print(results)"
      ],
      "metadata": {
        "colab": {
          "base_uri": "https://localhost:8080/"
        },
        "id": "CenM5Omeo_8u",
        "outputId": "17fc051b-2aec-4bd7-ff3c-adeba9f4edb3"
      },
      "execution_count": 6,
      "outputs": [
        {
          "output_type": "stream",
          "name": "stdout",
          "text": [
            "[{'username': 'boss', 'password': '1234'}, {'username': 'admin', 'password': 'password'}]\n"
          ]
        }
      ]
    },
    {
      "cell_type": "code",
      "source": [
        "sql = \"INSERT INTO users (username, password) VALUES (%s, %s)\"\n",
        "val = (\"Hi\", \"12345678\")\n",
        "cursor.execute(sql, val)\n",
        "\n",
        "conn.commit()"
      ],
      "metadata": {
        "id": "5UMhfRnyganv"
      },
      "execution_count": 7,
      "outputs": []
    },
    {
      "cell_type": "code",
      "source": [
        "sql = \"UPDATE users SET username = 'Test' WHERE username = 'Hi'\"\n",
        "\n",
        "cursor.execute(sql)\n",
        "\n",
        "conn.commit()\n",
        "\n",
        "print(cursor.rowcount, \"record(s) affected\")"
      ],
      "metadata": {
        "colab": {
          "base_uri": "https://localhost:8080/"
        },
        "id": "HTQnnFv6J-Bt",
        "outputId": "7c92b12d-e3a2-490d-bd70-1a923c1de608"
      },
      "execution_count": 8,
      "outputs": [
        {
          "output_type": "stream",
          "name": "stdout",
          "text": [
            "1 record(s) affected\n"
          ]
        }
      ]
    },
    {
      "cell_type": "code",
      "source": [
        "sql = \"DELETE FROM users WHERE username = 'Test'\"\n",
        "\n",
        "cursor.execute(sql)\n",
        "\n",
        "conn.commit()\n",
        "\n",
        "print(cursor.rowcount, \"record(s) deleted\")"
      ],
      "metadata": {
        "colab": {
          "base_uri": "https://localhost:8080/"
        },
        "id": "J5AyoKLhKU_Y",
        "outputId": "6d887dd6-8a8d-4730-f4bc-b61db209096d"
      },
      "execution_count": 9,
      "outputs": [
        {
          "output_type": "stream",
          "name": "stdout",
          "text": [
            "1 record(s) deleted\n"
          ]
        }
      ]
    },
    {
      "cell_type": "code",
      "source": [],
      "metadata": {
        "id": "SkSZHFmNKopF"
      },
      "execution_count": null,
      "outputs": []
    }
  ]
}