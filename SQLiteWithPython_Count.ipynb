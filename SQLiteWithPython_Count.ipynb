{
  "nbformat": 4,
  "nbformat_minor": 0,
  "metadata": {
    "colab": {
      "provenance": [],
      "authorship_tag": "ABX9TyPdxNwTdfGwYYReVvv7m5AB",
      "include_colab_link": true
    },
    "kernelspec": {
      "name": "python3",
      "display_name": "Python 3"
    },
    "language_info": {
      "name": "python"
    }
  },
  "cells": [
    {
      "cell_type": "markdown",
      "metadata": {
        "id": "view-in-github",
        "colab_type": "text"
      },
      "source": [
        "<a href=\"https://colab.research.google.com/github/xinxingwu-uk/Experiments_C_S/blob/main/SQLiteWithPython_Count.ipynb\" target=\"_parent\"><img src=\"https://colab.research.google.com/assets/colab-badge.svg\" alt=\"Open In Colab\"/></a>"
      ]
    },
    {
      "cell_type": "code",
      "execution_count": 1,
      "metadata": {
        "id": "6A3Mpuzreg6q"
      },
      "outputs": [],
      "source": [
        "import sqlite3"
      ]
    },
    {
      "cell_type": "code",
      "source": [
        "path=\"/content/Test.db\""
      ],
      "metadata": {
        "id": "MQ4XG5WDlUDe"
      },
      "execution_count": 2,
      "outputs": []
    },
    {
      "cell_type": "code",
      "source": [
        "#Step 1 — Creating a Connection to a SQLite Database\n",
        "connection = sqlite3.connect(path)\n",
        "#print(connection.total_changes)"
      ],
      "metadata": {
        "id": "QzUCuc34lgGo"
      },
      "execution_count": 3,
      "outputs": []
    },
    {
      "cell_type": "code",
      "source": [
        "cursor = connection.cursor()\n",
        "cursor.execute(\"SELECT name FROM sqlite_master WHERE type='table';\")\n",
        "myresult = cursor.fetchall()\n",
        "\n",
        "print(myresult)"
      ],
      "metadata": {
        "colab": {
          "base_uri": "https://localhost:8080/"
        },
        "id": "7wNwwbkOl-tz",
        "outputId": "1aaa4e99-785d-4c7b-b6ef-33aa72ac08d2"
      },
      "execution_count": 4,
      "outputs": [
        {
          "output_type": "stream",
          "name": "stdout",
          "text": [
            "[('Course',), ('Students',)]\n"
          ]
        }
      ]
    },
    {
      "cell_type": "code",
      "source": [
        "cursor = connection.cursor()\n",
        "rows = cursor.execute(\"SELECT COUNT(*) FROM Course;\").fetchall()"
      ],
      "metadata": {
        "id": "VfwJgXpJn8u5"
      },
      "execution_count": 7,
      "outputs": []
    },
    {
      "cell_type": "code",
      "source": [
        "print(len(rows))"
      ],
      "metadata": {
        "id": "nTIbXHieoX2E",
        "colab": {
          "base_uri": "https://localhost:8080/"
        },
        "outputId": "91dd961e-1107-463d-b477-ccb3482b0956"
      },
      "execution_count": 8,
      "outputs": [
        {
          "output_type": "stream",
          "name": "stdout",
          "text": [
            "1\n"
          ]
        }
      ]
    },
    {
      "cell_type": "code",
      "source": [],
      "metadata": {
        "id": "iZkThcOfso9t"
      },
      "execution_count": 9,
      "outputs": []
    },
    {
      "cell_type": "code",
      "source": [],
      "metadata": {
        "id": "LgKE_QnMtGmi"
      },
      "execution_count": null,
      "outputs": []
    }
  ]
}