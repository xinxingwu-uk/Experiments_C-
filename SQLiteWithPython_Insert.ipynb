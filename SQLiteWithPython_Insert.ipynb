{
  "nbformat": 4,
  "nbformat_minor": 0,
  "metadata": {
    "colab": {
      "provenance": [],
      "authorship_tag": "ABX9TyMWAVaI3LWeYZPeTJSe4Awg",
      "include_colab_link": true
    },
    "kernelspec": {
      "name": "python3",
      "display_name": "Python 3"
    },
    "language_info": {
      "name": "python"
    }
  },
  "cells": [
    {
      "cell_type": "markdown",
      "metadata": {
        "id": "view-in-github",
        "colab_type": "text"
      },
      "source": [
        "<a href=\"https://colab.research.google.com/github/xinxingwu-uk/Experiments_C_S/blob/main/SQLiteWithPython_Insert.ipynb\" target=\"_parent\"><img src=\"https://colab.research.google.com/assets/colab-badge.svg\" alt=\"Open In Colab\"/></a>"
      ]
    },
    {
      "cell_type": "code",
      "execution_count": 1,
      "metadata": {
        "id": "6A3Mpuzreg6q"
      },
      "outputs": [],
      "source": [
        "import sqlite3"
      ]
    },
    {
      "cell_type": "code",
      "source": [
        "path=\"/content/Test.db\""
      ],
      "metadata": {
        "id": "MQ4XG5WDlUDe"
      },
      "execution_count": 2,
      "outputs": []
    },
    {
      "cell_type": "code",
      "source": [
        "#Step 1 — Creating a Connection to a SQLite Database\n",
        "connection = sqlite3.connect(path)\n",
        "#print(connection.total_changes)"
      ],
      "metadata": {
        "id": "QzUCuc34lgGo"
      },
      "execution_count": 3,
      "outputs": []
    },
    {
      "cell_type": "code",
      "source": [
        "cursor = connection.cursor()\n",
        "cursor.execute(\"SELECT name FROM sqlite_master WHERE type='table';\")\n",
        "myresult = cursor.fetchall()\n",
        "\n",
        "print(myresult)"
      ],
      "metadata": {
        "colab": {
          "base_uri": "https://localhost:8080/"
        },
        "id": "7wNwwbkOl-tz",
        "outputId": "48aa58b7-f440-4f55-d260-4333983d28ed"
      },
      "execution_count": 4,
      "outputs": [
        {
          "output_type": "stream",
          "name": "stdout",
          "text": [
            "[('Course',), ('Students',)]\n"
          ]
        }
      ]
    },
    {
      "cell_type": "code",
      "source": [
        "cursor = connection.cursor()\n",
        "result = cursor.execute(\"INSERT INTO Course VALUES (10, 'Machine Learning', 5);\")\n",
        "print(result)"
      ],
      "metadata": {
        "id": "VfwJgXpJn8u5",
        "colab": {
          "base_uri": "https://localhost:8080/"
        },
        "outputId": "b1e1806a-7a7a-4c98-af50-c8696bdeba89"
      },
      "execution_count": 5,
      "outputs": [
        {
          "output_type": "stream",
          "name": "stdout",
          "text": [
            "<sqlite3.Cursor object at 0x7f46d9f95dc0>\n"
          ]
        }
      ]
    },
    {
      "cell_type": "code",
      "source": [
        "cursor = connection.cursor()\n",
        "rows = cursor.execute(\"SELECT * FROM Course\").fetchall()\n",
        "print(rows)"
      ],
      "metadata": {
        "colab": {
          "base_uri": "https://localhost:8080/"
        },
        "id": "4Lk9Z6lTpyGd",
        "outputId": "7d1cdfce-eaca-4c8c-fdcf-a112d08ad394"
      },
      "execution_count": 6,
      "outputs": [
        {
          "output_type": "stream",
          "name": "stdout",
          "text": [
            "[(1, 'Math', 6), (2, 'English', 5), (5, 'Biology', 6), (10, 'Machine Learning', 5)]\n"
          ]
        }
      ]
    },
    {
      "cell_type": "code",
      "source": [],
      "metadata": {
        "id": "2tYqx88np5-M"
      },
      "execution_count": null,
      "outputs": []
    }
  ]
}