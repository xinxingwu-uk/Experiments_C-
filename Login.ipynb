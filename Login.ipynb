{
  "nbformat": 4,
  "nbformat_minor": 0,
  "metadata": {
    "colab": {
      "provenance": [],
      "authorship_tag": "ABX9TyO8gFjVPxMPQtXMLyoerr28",
      "include_colab_link": true
    },
    "kernelspec": {
      "name": "python3",
      "display_name": "Python 3"
    },
    "language_info": {
      "name": "python"
    }
  },
  "cells": [
    {
      "cell_type": "markdown",
      "metadata": {
        "id": "view-in-github",
        "colab_type": "text"
      },
      "source": [
        "<a href=\"https://colab.research.google.com/github/xinxingwu-uk/Experiments_C_S/blob/main/Login.ipynb\" target=\"_parent\"><img src=\"https://colab.research.google.com/assets/colab-badge.svg\" alt=\"Open In Colab\"/></a>"
      ]
    },
    {
      "cell_type": "code",
      "execution_count": 1,
      "metadata": {
        "id": "6A3Mpuzreg6q"
      },
      "outputs": [],
      "source": [
        "import sqlite3"
      ]
    },
    {
      "cell_type": "markdown",
      "source": [
        "---\n",
        "# Login path\n",
        "---"
      ],
      "metadata": {
        "id": "epj5I9j8ZyGm"
      }
    },
    {
      "cell_type": "code",
      "source": [
        "path=\"/content/UserNames.db\""
      ],
      "metadata": {
        "id": "MQ4XG5WDlUDe"
      },
      "execution_count": 2,
      "outputs": []
    },
    {
      "cell_type": "markdown",
      "source": [
        "---\n",
        "# Connect database and show how many tables\n",
        "---"
      ],
      "metadata": {
        "id": "vStRLVaGZ2AU"
      }
    },
    {
      "cell_type": "code",
      "source": [
        "#Step 1 — Creating a Connection to a SQLite Database\n",
        "connection = sqlite3.connect(path)\n",
        "#print(connection.total_changes)\n",
        "\n",
        "cursor = connection.cursor()\n",
        "cursor.execute(\"SELECT name FROM sqlite_master WHERE type='table';\")\n",
        "myresult = cursor.fetchall()\n",
        "\n",
        "print(myresult)"
      ],
      "metadata": {
        "id": "QzUCuc34lgGo",
        "colab": {
          "base_uri": "https://localhost:8080/"
        },
        "outputId": "25d7dc6f-485a-4fa5-d200-e6213176fd41"
      },
      "execution_count": 3,
      "outputs": [
        {
          "output_type": "stream",
          "name": "stdout",
          "text": [
            "[('users',)]\n"
          ]
        }
      ]
    },
    {
      "cell_type": "markdown",
      "source": [
        "---\n",
        "# Define a method to judge whether the username and password exist in the table of database\n",
        "---"
      ],
      "metadata": {
        "id": "Igh108aUZ7z4"
      }
    },
    {
      "cell_type": "code",
      "source": [
        "def connectDatabase(path,tablename,username,password):\n",
        "  connection = sqlite3.connect(path)\n",
        "  cursor = connection.cursor()\n",
        "  rows = cursor.execute(\"SELECT COUNT(*) FROM \"+tablename+\" WHERE username='\"+username+\"' and password='\"+password+\"';\").fetchall()\n",
        "  return len(rows)"
      ],
      "metadata": {
        "id": "VfwJgXpJn8u5"
      },
      "execution_count": 4,
      "outputs": []
    },
    {
      "cell_type": "markdown",
      "source": [
        "---\n",
        "# Let users give name and password\n",
        "---"
      ],
      "metadata": {
        "id": "tcaCDXapaJko"
      }
    },
    {
      "cell_type": "code",
      "source": [
        "username=input(\"Please enter your name \")"
      ],
      "metadata": {
        "id": "iZkThcOfso9t",
        "colab": {
          "base_uri": "https://localhost:8080/"
        },
        "outputId": "5810dfd6-e7cf-4910-8120-3757df8bf845"
      },
      "execution_count": 5,
      "outputs": [
        {
          "name": "stdout",
          "output_type": "stream",
          "text": [
            "Please enter your name boss\n"
          ]
        }
      ]
    },
    {
      "cell_type": "code",
      "source": [
        "password=input(\"Please enter your password \")"
      ],
      "metadata": {
        "id": "LgKE_QnMtGmi",
        "colab": {
          "base_uri": "https://localhost:8080/"
        },
        "outputId": "6e119dba-c774-42ec-d295-001f28a2cb56"
      },
      "execution_count": 6,
      "outputs": [
        {
          "name": "stdout",
          "output_type": "stream",
          "text": [
            "Please enter your password 1234\n"
          ]
        }
      ]
    },
    {
      "cell_type": "markdown",
      "source": [
        "---\n",
        "# Check username and password\n",
        "---"
      ],
      "metadata": {
        "id": "LOn13qxCaOq1"
      }
    },
    {
      "cell_type": "code",
      "source": [
        "tablename=\"users\"\n",
        "returnRow=connectDatabase(path,tablename,username,password)\n",
        "\n",
        "if returnRow>0:\n",
        "  print(\"Login is successful :-) \")\n",
        "else:\n",
        "  print(\"Login is failed :-(\")"
      ],
      "metadata": {
        "colab": {
          "base_uri": "https://localhost:8080/"
        },
        "id": "BIwTzTlrYhsn",
        "outputId": "1a678839-95f3-4832-d845-7525f4bf9b7d"
      },
      "execution_count": 7,
      "outputs": [
        {
          "output_type": "stream",
          "name": "stdout",
          "text": [
            "Login is successful :-) \n"
          ]
        }
      ]
    },
    {
      "cell_type": "code",
      "source": [],
      "metadata": {
        "id": "-VX-s9BFYkee"
      },
      "execution_count": 7,
      "outputs": []
    }
  ]
}