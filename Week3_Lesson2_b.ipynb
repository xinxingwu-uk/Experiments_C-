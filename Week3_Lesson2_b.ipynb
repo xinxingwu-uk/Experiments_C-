{
  "nbformat": 4,
  "nbformat_minor": 0,
  "metadata": {
    "colab": {
      "provenance": [],
      "authorship_tag": "ABX9TyOvQhR6QeKmeTiX5i4lP1UF",
      "include_colab_link": true
    },
    "kernelspec": {
      "name": "python3",
      "display_name": "Python 3"
    },
    "language_info": {
      "name": "python"
    }
  },
  "cells": [
    {
      "cell_type": "markdown",
      "metadata": {
        "id": "view-in-github",
        "colab_type": "text"
      },
      "source": [
        "<a href=\"https://colab.research.google.com/github/xinxingwu-uk/Experiments_C_S/blob/main/Week3_Lesson2_b.ipynb\" target=\"_parent\"><img src=\"https://colab.research.google.com/assets/colab-badge.svg\" alt=\"Open In Colab\"/></a>"
      ]
    },
    {
      "cell_type": "code",
      "execution_count": 3,
      "metadata": {
        "id": "jpQoBew437sF"
      },
      "outputs": [],
      "source": [
        "import pandas as pd"
      ]
    },
    {
      "cell_type": "code",
      "source": [
        "df=pd.read_excel('/content/Test.xlsx',header=None)"
      ],
      "metadata": {
        "id": "L5K8kzqh4aqg"
      },
      "execution_count": 4,
      "outputs": []
    },
    {
      "cell_type": "code",
      "source": [
        "df.shape"
      ],
      "metadata": {
        "colab": {
          "base_uri": "https://localhost:8080/"
        },
        "id": "jGG3TmMS4gNO",
        "outputId": "12a7d872-c95e-4bf1-bce4-02a075c4606d"
      },
      "execution_count": 5,
      "outputs": [
        {
          "output_type": "execute_result",
          "data": {
            "text/plain": [
              "(10, 3)"
            ]
          },
          "metadata": {},
          "execution_count": 5
        }
      ]
    },
    {
      "cell_type": "code",
      "source": [
        "df"
      ],
      "metadata": {
        "colab": {
          "base_uri": "https://localhost:8080/",
          "height": 363
        },
        "id": "31aZRTTQ4jOn",
        "outputId": "cc834de4-a1af-4f63-c31f-8093f55324ed"
      },
      "execution_count": 6,
      "outputs": [
        {
          "output_type": "execute_result",
          "data": {
            "text/plain": [
              "    0  1   2\n",
              "0   1  2   3\n",
              "1   4  3   1\n",
              "2   2  6   7\n",
              "3   1  2  10\n",
              "4   9  0   1\n",
              "5   3  4   6\n",
              "6   1  2   3\n",
              "7  11  2   3\n",
              "8   4  5   8\n",
              "9  21  7  90"
            ],
            "text/html": [
              "\n",
              "  <div id=\"df-becf0ad6-8381-4e9e-ab2b-067090093cbb\">\n",
              "    <div class=\"colab-df-container\">\n",
              "      <div>\n",
              "<style scoped>\n",
              "    .dataframe tbody tr th:only-of-type {\n",
              "        vertical-align: middle;\n",
              "    }\n",
              "\n",
              "    .dataframe tbody tr th {\n",
              "        vertical-align: top;\n",
              "    }\n",
              "\n",
              "    .dataframe thead th {\n",
              "        text-align: right;\n",
              "    }\n",
              "</style>\n",
              "<table border=\"1\" class=\"dataframe\">\n",
              "  <thead>\n",
              "    <tr style=\"text-align: right;\">\n",
              "      <th></th>\n",
              "      <th>0</th>\n",
              "      <th>1</th>\n",
              "      <th>2</th>\n",
              "    </tr>\n",
              "  </thead>\n",
              "  <tbody>\n",
              "    <tr>\n",
              "      <th>0</th>\n",
              "      <td>1</td>\n",
              "      <td>2</td>\n",
              "      <td>3</td>\n",
              "    </tr>\n",
              "    <tr>\n",
              "      <th>1</th>\n",
              "      <td>4</td>\n",
              "      <td>3</td>\n",
              "      <td>1</td>\n",
              "    </tr>\n",
              "    <tr>\n",
              "      <th>2</th>\n",
              "      <td>2</td>\n",
              "      <td>6</td>\n",
              "      <td>7</td>\n",
              "    </tr>\n",
              "    <tr>\n",
              "      <th>3</th>\n",
              "      <td>1</td>\n",
              "      <td>2</td>\n",
              "      <td>10</td>\n",
              "    </tr>\n",
              "    <tr>\n",
              "      <th>4</th>\n",
              "      <td>9</td>\n",
              "      <td>0</td>\n",
              "      <td>1</td>\n",
              "    </tr>\n",
              "    <tr>\n",
              "      <th>5</th>\n",
              "      <td>3</td>\n",
              "      <td>4</td>\n",
              "      <td>6</td>\n",
              "    </tr>\n",
              "    <tr>\n",
              "      <th>6</th>\n",
              "      <td>1</td>\n",
              "      <td>2</td>\n",
              "      <td>3</td>\n",
              "    </tr>\n",
              "    <tr>\n",
              "      <th>7</th>\n",
              "      <td>11</td>\n",
              "      <td>2</td>\n",
              "      <td>3</td>\n",
              "    </tr>\n",
              "    <tr>\n",
              "      <th>8</th>\n",
              "      <td>4</td>\n",
              "      <td>5</td>\n",
              "      <td>8</td>\n",
              "    </tr>\n",
              "    <tr>\n",
              "      <th>9</th>\n",
              "      <td>21</td>\n",
              "      <td>7</td>\n",
              "      <td>90</td>\n",
              "    </tr>\n",
              "  </tbody>\n",
              "</table>\n",
              "</div>\n",
              "      <button class=\"colab-df-convert\" onclick=\"convertToInteractive('df-becf0ad6-8381-4e9e-ab2b-067090093cbb')\"\n",
              "              title=\"Convert this dataframe to an interactive table.\"\n",
              "              style=\"display:none;\">\n",
              "        \n",
              "  <svg xmlns=\"http://www.w3.org/2000/svg\" height=\"24px\"viewBox=\"0 0 24 24\"\n",
              "       width=\"24px\">\n",
              "    <path d=\"M0 0h24v24H0V0z\" fill=\"none\"/>\n",
              "    <path d=\"M18.56 5.44l.94 2.06.94-2.06 2.06-.94-2.06-.94-.94-2.06-.94 2.06-2.06.94zm-11 1L8.5 8.5l.94-2.06 2.06-.94-2.06-.94L8.5 2.5l-.94 2.06-2.06.94zm10 10l.94 2.06.94-2.06 2.06-.94-2.06-.94-.94-2.06-.94 2.06-2.06.94z\"/><path d=\"M17.41 7.96l-1.37-1.37c-.4-.4-.92-.59-1.43-.59-.52 0-1.04.2-1.43.59L10.3 9.45l-7.72 7.72c-.78.78-.78 2.05 0 2.83L4 21.41c.39.39.9.59 1.41.59.51 0 1.02-.2 1.41-.59l7.78-7.78 2.81-2.81c.8-.78.8-2.07 0-2.86zM5.41 20L4 18.59l7.72-7.72 1.47 1.35L5.41 20z\"/>\n",
              "  </svg>\n",
              "      </button>\n",
              "      \n",
              "  <style>\n",
              "    .colab-df-container {\n",
              "      display:flex;\n",
              "      flex-wrap:wrap;\n",
              "      gap: 12px;\n",
              "    }\n",
              "\n",
              "    .colab-df-convert {\n",
              "      background-color: #E8F0FE;\n",
              "      border: none;\n",
              "      border-radius: 50%;\n",
              "      cursor: pointer;\n",
              "      display: none;\n",
              "      fill: #1967D2;\n",
              "      height: 32px;\n",
              "      padding: 0 0 0 0;\n",
              "      width: 32px;\n",
              "    }\n",
              "\n",
              "    .colab-df-convert:hover {\n",
              "      background-color: #E2EBFA;\n",
              "      box-shadow: 0px 1px 2px rgba(60, 64, 67, 0.3), 0px 1px 3px 1px rgba(60, 64, 67, 0.15);\n",
              "      fill: #174EA6;\n",
              "    }\n",
              "\n",
              "    [theme=dark] .colab-df-convert {\n",
              "      background-color: #3B4455;\n",
              "      fill: #D2E3FC;\n",
              "    }\n",
              "\n",
              "    [theme=dark] .colab-df-convert:hover {\n",
              "      background-color: #434B5C;\n",
              "      box-shadow: 0px 1px 3px 1px rgba(0, 0, 0, 0.15);\n",
              "      filter: drop-shadow(0px 1px 2px rgba(0, 0, 0, 0.3));\n",
              "      fill: #FFFFFF;\n",
              "    }\n",
              "  </style>\n",
              "\n",
              "      <script>\n",
              "        const buttonEl =\n",
              "          document.querySelector('#df-becf0ad6-8381-4e9e-ab2b-067090093cbb button.colab-df-convert');\n",
              "        buttonEl.style.display =\n",
              "          google.colab.kernel.accessAllowed ? 'block' : 'none';\n",
              "\n",
              "        async function convertToInteractive(key) {\n",
              "          const element = document.querySelector('#df-becf0ad6-8381-4e9e-ab2b-067090093cbb');\n",
              "          const dataTable =\n",
              "            await google.colab.kernel.invokeFunction('convertToInteractive',\n",
              "                                                     [key], {});\n",
              "          if (!dataTable) return;\n",
              "\n",
              "          const docLinkHtml = 'Like what you see? Visit the ' +\n",
              "            '<a target=\"_blank\" href=https://colab.research.google.com/notebooks/data_table.ipynb>data table notebook</a>'\n",
              "            + ' to learn more about interactive tables.';\n",
              "          element.innerHTML = '';\n",
              "          dataTable['output_type'] = 'display_data';\n",
              "          await google.colab.output.renderOutput(dataTable, element);\n",
              "          const docLink = document.createElement('div');\n",
              "          docLink.innerHTML = docLinkHtml;\n",
              "          element.appendChild(docLink);\n",
              "        }\n",
              "      </script>\n",
              "    </div>\n",
              "  </div>\n",
              "  "
            ]
          },
          "metadata": {},
          "execution_count": 6
        }
      ]
    },
    {
      "cell_type": "code",
      "source": [
        "from PIL import Image\n",
        "import numpy as np"
      ],
      "metadata": {
        "id": "MS-EqZqY4jmO"
      },
      "execution_count": 7,
      "outputs": []
    },
    {
      "cell_type": "code",
      "source": [
        "I = Image.open('/content/desktop.jpg')\n",
        "I.show()\n",
        "I_array = np.array(I)\n",
        "print(I_array.shape)"
      ],
      "metadata": {
        "colab": {
          "base_uri": "https://localhost:8080/"
        },
        "id": "98xyKeSH4wV0",
        "outputId": "29681142-7424-4543-fc1e-3e8e256fe897"
      },
      "execution_count": 8,
      "outputs": [
        {
          "output_type": "stream",
          "name": "stdout",
          "text": [
            "(562, 700, 3)\n"
          ]
        }
      ]
    },
    {
      "cell_type": "code",
      "source": [
        "I_array"
      ],
      "metadata": {
        "colab": {
          "base_uri": "https://localhost:8080/"
        },
        "id": "X2vZ9EyG45RE",
        "outputId": "4ccef3e4-7b9c-4b29-98a2-6ed27de37b21"
      },
      "execution_count": 9,
      "outputs": [
        {
          "output_type": "execute_result",
          "data": {
            "text/plain": [
              "array([[[ 72, 122, 235],\n",
              "        [ 71, 120, 238],\n",
              "        [ 70, 120, 241],\n",
              "        ...,\n",
              "        [219, 231, 245],\n",
              "        [219, 231, 245],\n",
              "        [219, 231, 245]],\n",
              "\n",
              "       [[ 72, 123, 232],\n",
              "        [ 71, 121, 234],\n",
              "        [ 70, 121, 239],\n",
              "        ...,\n",
              "        [219, 231, 245],\n",
              "        [219, 231, 245],\n",
              "        [219, 231, 245]],\n",
              "\n",
              "       [[ 72, 121, 223],\n",
              "        [ 71, 122, 227],\n",
              "        [ 71, 123, 235],\n",
              "        ...,\n",
              "        [218, 230, 244],\n",
              "        [218, 230, 244],\n",
              "        [218, 230, 244]],\n",
              "\n",
              "       ...,\n",
              "\n",
              "       [[ 40,  64,   4],\n",
              "        [ 40,  64,   4],\n",
              "        [ 34,  58,   0],\n",
              "        ...,\n",
              "        [ 45,  65,  12],\n",
              "        [ 43,  63,  12],\n",
              "        [ 39,  62,  10]],\n",
              "\n",
              "       [[ 53,  70,  15],\n",
              "        [ 52,  69,  14],\n",
              "        [ 50,  67,  12],\n",
              "        ...,\n",
              "        [ 39,  59,   8],\n",
              "        [ 37,  57,   6],\n",
              "        [ 35,  55,   4]],\n",
              "\n",
              "       [[ 53,  70,  15],\n",
              "        [ 52,  69,  14],\n",
              "        [ 50,  67,  12],\n",
              "        ...,\n",
              "        [ 39,  59,   8],\n",
              "        [ 37,  57,   6],\n",
              "        [ 35,  55,   4]]], dtype=uint8)"
            ]
          },
          "metadata": {},
          "execution_count": 9
        }
      ]
    },
    {
      "cell_type": "code",
      "source": [
        "I = Image.open('/content/img_1.jpg')\n",
        "I.show()\n",
        "I_array = np.array(I)\n",
        "print(I_array.shape)"
      ],
      "metadata": {
        "colab": {
          "base_uri": "https://localhost:8080/"
        },
        "id": "CeI8t-ce46gl",
        "outputId": "01421a6b-55fd-43a1-84cc-efb1a004ef37"
      },
      "execution_count": 10,
      "outputs": [
        {
          "output_type": "stream",
          "name": "stdout",
          "text": [
            "(28, 28)\n"
          ]
        }
      ]
    },
    {
      "cell_type": "code",
      "source": [
        "print(I_array)"
      ],
      "metadata": {
        "colab": {
          "base_uri": "https://localhost:8080/"
        },
        "id": "PuZTHeVo5H7B",
        "outputId": "7991f545-3ff6-4bdd-acc0-3b00e59f25b3"
      },
      "execution_count": 11,
      "outputs": [
        {
          "output_type": "stream",
          "name": "stdout",
          "text": [
            "[[  0   0   0   0   0   0   0   0   0   1   3   0   0   4   2   0  11   0\n",
            "    0  14   1   0  19   0   0   0   0   0]\n",
            " [  0   0   0   0   0   0   0   0   0  12   0   0   7   0   1  10   0   2\n",
            "    2  16   0   3   3   0   0   0   0   0]\n",
            " [  0   0   0   0   0   0   0   0   7   8   0   8   0   0   8   0   0  19\n",
            "    0   0   1  21   0   4   0   0   0   0]\n",
            " [  0   0   0   0   0   0   0   0   0   0   1   0   0   1   0   0   0   0\n",
            "    0  11   0   0  10   3   0   0   0   0]\n",
            " [  0   0   0   0   0   0   0   0  13   0  15  10  26  34  17  77 181 178\n",
            "   35   4   0   0   0   0   0   0   0   0]\n",
            " [  0   0   0   0   0   0   0   0   0   0 150 254 250 251 243 252 252 255\n",
            "   45   6   0   5   0   9   0   0   0   0]\n",
            " [  0   0   0   0   0   0   0   0   7  72 205 255 238 243 255 254 251 248\n",
            "  201 198  57   0  19   0   0   0   0   0]\n",
            " [  0   0   0   0   0   0   0   0   0 218 255 241 255 249 250 251 250 255\n",
            "  255 242 224  49   0  12   0   0   0   0]\n",
            " [  0   0   1   2   3   2   2   1   0  65 228 255 254 244 119  34  41 110\n",
            "  250 255 248 124  20   0   0   0   0   0]\n",
            " [  1   1   0   0   0   0   0   0  12   0  62 103 113 117  34   0   0   0\n",
            "  200 244 255 255   0  12   0   0   0   0]\n",
            " [  2   1   0   0   0   0   1   2   0   0   2   4   0  11   0   7   6   0\n",
            "   75 244 255 255   4   0   0   0   0   0]\n",
            " [  0   0   0   1   2   3   4   4   0  14   0   0   0   9   0   2   0   0\n",
            "   34 255 255 253  10  10   0   0   0   0]\n",
            " [  0   0   1   2   3   2   0   0   3   2   0  13  11   0   0   0   6  12\n",
            "   99 255 254 248  15  12   0   0   0   0]\n",
            " [  0   1   1   1   0   0   0   0   1   1   0   0   5   6  11   0   0  17\n",
            "  184 247 255 243  13   0   0   0   0   0]\n",
            " [  3   2   0   0   0   0   2   4   4   0  11   0  51  94  85   5   5  25\n",
            "  246 246 255 208   0   9   0   0   0   0]\n",
            " [  4   1   0   0   1   7  15  19  99 103 182 189 237 253 252 191 190 227\n",
            "  243 252 210  18   7   0   0   0   0   0]\n",
            " [  0   4   0   0  32 109 185 247 255 242 255 244 255 255 242 251 255 240\n",
            "  255 255 218 124   9   0   0   0   0   0]\n",
            " [  2   0   0   0 127 255 235 255 255 247 229 212 242 250 255 255 248 255\n",
            "  253 249 255 243 170  12   0   0   0   0]\n",
            " [  0  11   0   9 253 255 255 233 202  85   0  53 196 238 255 227 238 142\n",
            "  109 193 255 240 255 180   0   0   0   0]\n",
            " [  6   0  22   1 245 243 254 255 217 235 226 213 244 251 255 239  77   0\n",
            "    0  20 182 247 239 243   0   0   0   0]\n",
            " [  0   0   0   4 165 251 255 245 255 242 253 250 255 197 107  59   0  18\n",
            "    2   6   0  54 255 158   0   0   0   0]\n",
            " [  0  24   0   0   6  34 167 194 176 183 164  44   2  10   6   6   0   0\n",
            "    5   0   1   0  14   2   0   0   0   0]\n",
            " [ 10   0  14   0  12   0   5   0   1   0   6   0   7   0   0   0   8   0\n",
            "   10   0   5   0   0  10   0   0   0   0]\n",
            " [  0  14   0   4   0   0  25   0   0   9   0   0   9   0  11   0   1   0\n",
            "    0   2   0   0   7   0   0   0   0   0]\n",
            " [  0   0   0   0   0   0   0   0   0   0   0   0   0   0   0   0   0   0\n",
            "    0   0   0   0   0   0   0   0   0   0]\n",
            " [  0   0   0   0   0   0   0   0   0   0   0   0   0   0   0   0   0   0\n",
            "    0   0   0   0   0   0   0   0   0   0]\n",
            " [  0   0   0   0   0   0   0   0   0   0   0   0   0   0   0   0   0   0\n",
            "    0   0   0   0   0   0   0   0   0   0]\n",
            " [  0   0   0   0   0   0   0   0   0   0   0   0   0   0   0   0   0   0\n",
            "    0   0   0   0   0   0   0   0   0   0]]\n"
          ]
        }
      ]
    },
    {
      "cell_type": "code",
      "source": [
        "print(I_array//200)"
      ],
      "metadata": {
        "id": "crCeoB9S5I1z",
        "colab": {
          "base_uri": "https://localhost:8080/"
        },
        "outputId": "c7bb2ba7-6282-42f6-e09f-7845ad1e686a"
      },
      "execution_count": 14,
      "outputs": [
        {
          "output_type": "stream",
          "name": "stdout",
          "text": [
            "[[0 0 0 0 0 0 0 0 0 0 0 0 0 0 0 0 0 0 0 0 0 0 0 0 0 0 0 0]\n",
            " [0 0 0 0 0 0 0 0 0 0 0 0 0 0 0 0 0 0 0 0 0 0 0 0 0 0 0 0]\n",
            " [0 0 0 0 0 0 0 0 0 0 0 0 0 0 0 0 0 0 0 0 0 0 0 0 0 0 0 0]\n",
            " [0 0 0 0 0 0 0 0 0 0 0 0 0 0 0 0 0 0 0 0 0 0 0 0 0 0 0 0]\n",
            " [0 0 0 0 0 0 0 0 0 0 0 0 0 0 0 0 0 0 0 0 0 0 0 0 0 0 0 0]\n",
            " [0 0 0 0 0 0 0 0 0 0 0 1 1 1 1 1 1 1 0 0 0 0 0 0 0 0 0 0]\n",
            " [0 0 0 0 0 0 0 0 0 0 1 1 1 1 1 1 1 1 1 0 0 0 0 0 0 0 0 0]\n",
            " [0 0 0 0 0 0 0 0 0 1 1 1 1 1 1 1 1 1 1 1 1 0 0 0 0 0 0 0]\n",
            " [0 0 0 0 0 0 0 0 0 0 1 1 1 1 0 0 0 0 1 1 1 0 0 0 0 0 0 0]\n",
            " [0 0 0 0 0 0 0 0 0 0 0 0 0 0 0 0 0 0 1 1 1 1 0 0 0 0 0 0]\n",
            " [0 0 0 0 0 0 0 0 0 0 0 0 0 0 0 0 0 0 0 1 1 1 0 0 0 0 0 0]\n",
            " [0 0 0 0 0 0 0 0 0 0 0 0 0 0 0 0 0 0 0 1 1 1 0 0 0 0 0 0]\n",
            " [0 0 0 0 0 0 0 0 0 0 0 0 0 0 0 0 0 0 0 1 1 1 0 0 0 0 0 0]\n",
            " [0 0 0 0 0 0 0 0 0 0 0 0 0 0 0 0 0 0 0 1 1 1 0 0 0 0 0 0]\n",
            " [0 0 0 0 0 0 0 0 0 0 0 0 0 0 0 0 0 0 1 1 1 1 0 0 0 0 0 0]\n",
            " [0 0 0 0 0 0 0 0 0 0 0 0 1 1 1 0 0 1 1 1 1 0 0 0 0 0 0 0]\n",
            " [0 0 0 0 0 0 0 1 1 1 1 1 1 1 1 1 1 1 1 1 1 0 0 0 0 0 0 0]\n",
            " [0 0 0 0 0 1 1 1 1 1 1 1 1 1 1 1 1 1 1 1 1 1 0 0 0 0 0 0]\n",
            " [0 0 0 0 1 1 1 1 1 0 0 0 0 1 1 1 1 0 0 0 1 1 1 0 0 0 0 0]\n",
            " [0 0 0 0 1 1 1 1 1 1 1 1 1 1 1 1 0 0 0 0 0 1 1 1 0 0 0 0]\n",
            " [0 0 0 0 0 1 1 1 1 1 1 1 1 0 0 0 0 0 0 0 0 0 1 0 0 0 0 0]\n",
            " [0 0 0 0 0 0 0 0 0 0 0 0 0 0 0 0 0 0 0 0 0 0 0 0 0 0 0 0]\n",
            " [0 0 0 0 0 0 0 0 0 0 0 0 0 0 0 0 0 0 0 0 0 0 0 0 0 0 0 0]\n",
            " [0 0 0 0 0 0 0 0 0 0 0 0 0 0 0 0 0 0 0 0 0 0 0 0 0 0 0 0]\n",
            " [0 0 0 0 0 0 0 0 0 0 0 0 0 0 0 0 0 0 0 0 0 0 0 0 0 0 0 0]\n",
            " [0 0 0 0 0 0 0 0 0 0 0 0 0 0 0 0 0 0 0 0 0 0 0 0 0 0 0 0]\n",
            " [0 0 0 0 0 0 0 0 0 0 0 0 0 0 0 0 0 0 0 0 0 0 0 0 0 0 0 0]\n",
            " [0 0 0 0 0 0 0 0 0 0 0 0 0 0 0 0 0 0 0 0 0 0 0 0 0 0 0 0]]\n"
          ]
        }
      ]
    },
    {
      "cell_type": "code",
      "source": [],
      "metadata": {
        "id": "1OjNYiruqu9g"
      },
      "execution_count": null,
      "outputs": []
    }
  ]
}