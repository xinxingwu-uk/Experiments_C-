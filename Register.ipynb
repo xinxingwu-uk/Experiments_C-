{
  "nbformat": 4,
  "nbformat_minor": 0,
  "metadata": {
    "colab": {
      "provenance": [],
      "authorship_tag": "ABX9TyPEC7v0ThQ6Y1NvUgpStNlg",
      "include_colab_link": true
    },
    "kernelspec": {
      "name": "python3",
      "display_name": "Python 3"
    },
    "language_info": {
      "name": "python"
    }
  },
  "cells": [
    {
      "cell_type": "markdown",
      "metadata": {
        "id": "view-in-github",
        "colab_type": "text"
      },
      "source": [
        "<a href=\"https://colab.research.google.com/github/xinxingwu-uk/Experiments_C_S/blob/main/Register.ipynb\" target=\"_parent\"><img src=\"https://colab.research.google.com/assets/colab-badge.svg\" alt=\"Open In Colab\"/></a>"
      ]
    },
    {
      "cell_type": "code",
      "execution_count": 1,
      "metadata": {
        "id": "6A3Mpuzreg6q"
      },
      "outputs": [],
      "source": [
        "import sqlite3"
      ]
    },
    {
      "cell_type": "markdown",
      "source": [
        "---\n",
        "# Login path\n",
        "---"
      ],
      "metadata": {
        "id": "epj5I9j8ZyGm"
      }
    },
    {
      "cell_type": "code",
      "source": [
        "path=\"/content/UserNames.db\""
      ],
      "metadata": {
        "id": "MQ4XG5WDlUDe"
      },
      "execution_count": 2,
      "outputs": []
    },
    {
      "cell_type": "markdown",
      "source": [
        "---\n",
        "# Connect database and show how many tables\n",
        "---"
      ],
      "metadata": {
        "id": "vStRLVaGZ2AU"
      }
    },
    {
      "cell_type": "code",
      "source": [
        "#Step 1 — Creating a Connection to a SQLite Database\n",
        "connection = sqlite3.connect(path)\n",
        "#print(connection.total_changes)\n",
        "\n",
        "cursor = connection.cursor()\n",
        "cursor.execute(\"SELECT name FROM sqlite_master WHERE type='table';\")\n",
        "myresult = cursor.fetchall()\n",
        "\n",
        "print(myresult)"
      ],
      "metadata": {
        "id": "QzUCuc34lgGo",
        "colab": {
          "base_uri": "https://localhost:8080/"
        },
        "outputId": "84cb781a-19a9-4593-eff8-bce7cdd7159c"
      },
      "execution_count": 3,
      "outputs": [
        {
          "output_type": "stream",
          "name": "stdout",
          "text": [
            "[('users',)]\n"
          ]
        }
      ]
    },
    {
      "cell_type": "markdown",
      "source": [
        "---\n",
        "# Define a method to a whether the username and password exist in the table of database\n",
        "---"
      ],
      "metadata": {
        "id": "Igh108aUZ7z4"
      }
    },
    {
      "cell_type": "code",
      "source": [
        "def connectDatabase(path,tablename,username,password):\n",
        "  connection = sqlite3.connect(path)\n",
        "  cursor = connection.cursor()\n",
        "  rows = cursor.execute(\"INSERT INTO \"+tablename+\" VALUES ('\"+username+\"','\"+password+\"');\")\n",
        "  connection.commit()"
      ],
      "metadata": {
        "id": "VfwJgXpJn8u5"
      },
      "execution_count": 24,
      "outputs": []
    },
    {
      "cell_type": "markdown",
      "source": [
        "---\n",
        "# Let users give name and password\n",
        "---"
      ],
      "metadata": {
        "id": "tcaCDXapaJko"
      }
    },
    {
      "cell_type": "code",
      "source": [
        "username=input(\"Please enter your name \")"
      ],
      "metadata": {
        "id": "iZkThcOfso9t",
        "colab": {
          "base_uri": "https://localhost:8080/"
        },
        "outputId": "2dfdb784-f60f-4824-d9ac-c6d7ec625098"
      },
      "execution_count": 25,
      "outputs": [
        {
          "name": "stdout",
          "output_type": "stream",
          "text": [
            "Please enter your name test2\n"
          ]
        }
      ]
    },
    {
      "cell_type": "code",
      "source": [
        "password=input(\"Please enter your password \")"
      ],
      "metadata": {
        "id": "LgKE_QnMtGmi",
        "colab": {
          "base_uri": "https://localhost:8080/"
        },
        "outputId": "420e8921-3be3-4896-d441-d33a2bee991c"
      },
      "execution_count": 26,
      "outputs": [
        {
          "name": "stdout",
          "output_type": "stream",
          "text": [
            "Please enter your password 888\n"
          ]
        }
      ]
    },
    {
      "cell_type": "markdown",
      "source": [
        "---\n",
        "# Check username and password\n",
        "---"
      ],
      "metadata": {
        "id": "LOn13qxCaOq1"
      }
    },
    {
      "cell_type": "code",
      "source": [
        "tablename=\"users\"\n",
        "connectDatabase(path,tablename,username,password)\n",
        "\n"
      ],
      "metadata": {
        "id": "BIwTzTlrYhsn"
      },
      "execution_count": 27,
      "outputs": []
    },
    {
      "cell_type": "code",
      "source": [
        "cursor = connection.cursor()\n",
        "rows = cursor.execute(\"SELECT * FROM \"+tablename).fetchall()\n",
        "print(rows)"
      ],
      "metadata": {
        "id": "-VX-s9BFYkee",
        "colab": {
          "base_uri": "https://localhost:8080/"
        },
        "outputId": "e46d8fa4-0599-408f-b373-c9923e0d50b3"
      },
      "execution_count": 28,
      "outputs": [
        {
          "output_type": "stream",
          "name": "stdout",
          "text": [
            "[('boss', '1234'), ('admin', 'password'), ('test', '789'), ('test2', '888')]\n"
          ]
        }
      ]
    },
    {
      "cell_type": "code",
      "source": [],
      "metadata": {
        "id": "g5-PwBwMeGm7"
      },
      "execution_count": null,
      "outputs": []
    }
  ]
}