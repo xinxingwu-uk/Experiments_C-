{
  "nbformat": 4,
  "nbformat_minor": 0,
  "metadata": {
    "colab": {
      "provenance": [],
      "authorship_tag": "ABX9TyPcP53oZCKusJ/aZCUN8FyI",
      "include_colab_link": true
    },
    "kernelspec": {
      "name": "python3",
      "display_name": "Python 3"
    },
    "language_info": {
      "name": "python"
    }
  },
  "cells": [
    {
      "cell_type": "markdown",
      "metadata": {
        "id": "view-in-github",
        "colab_type": "text"
      },
      "source": [
        "<a href=\"https://colab.research.google.com/github/xinxingwu-uk/Experiments_C_S/blob/main/Week3_Lesson2_a.ipynb\" target=\"_parent\"><img src=\"https://colab.research.google.com/assets/colab-badge.svg\" alt=\"Open In Colab\"/></a>"
      ]
    },
    {
      "cell_type": "markdown",
      "source": [
        "---\n",
        "# Methods\n",
        "---"
      ],
      "metadata": {
        "id": "modfgkM-uUnr"
      }
    },
    {
      "cell_type": "code",
      "execution_count": 17,
      "metadata": {
        "id": "OoLwyMXHsLOe"
      },
      "outputs": [],
      "source": [
        "def Print_Somethings():\n",
        "  print(\"Hello\")"
      ]
    },
    {
      "cell_type": "code",
      "source": [
        "Print_Somethings()"
      ],
      "metadata": {
        "colab": {
          "base_uri": "https://localhost:8080/"
        },
        "id": "gZhdRaO4trvD",
        "outputId": "ce9dbd59-33a3-4053-d9d3-018c2f860ad5"
      },
      "execution_count": 18,
      "outputs": [
        {
          "output_type": "stream",
          "name": "stdout",
          "text": [
            "Hello\n"
          ]
        }
      ]
    },
    {
      "cell_type": "code",
      "source": [
        "def Print_Somethings(p_name):\n",
        "  print(\"Hello, I am \",p_name)"
      ],
      "metadata": {
        "id": "S6pqB4M1tqQU"
      },
      "execution_count": 19,
      "outputs": []
    },
    {
      "cell_type": "code",
      "source": [
        "p_name=\"Tom\"\n",
        "Print_Somethings(p_name)"
      ],
      "metadata": {
        "colab": {
          "base_uri": "https://localhost:8080/"
        },
        "id": "PxVr82CDttCu",
        "outputId": "dc1eba85-3a41-4524-d791-75a7e35a74f9"
      },
      "execution_count": 20,
      "outputs": [
        {
          "output_type": "stream",
          "name": "stdout",
          "text": [
            "Hello, I am  Tom\n"
          ]
        }
      ]
    },
    {
      "cell_type": "code",
      "source": [
        "Print_Somethings(\"Tom\")"
      ],
      "metadata": {
        "colab": {
          "base_uri": "https://localhost:8080/"
        },
        "id": "Oj6gQ50ttt46",
        "outputId": "25aba96d-6839-487e-e243-4906c92f86c2"
      },
      "execution_count": 21,
      "outputs": [
        {
          "output_type": "stream",
          "name": "stdout",
          "text": [
            "Hello, I am  Tom\n"
          ]
        }
      ]
    },
    {
      "cell_type": "code",
      "source": [
        "def sum(x,y):\n",
        "  print(x+y)"
      ],
      "metadata": {
        "id": "vY0UR9LgtUc-"
      },
      "execution_count": 22,
      "outputs": []
    },
    {
      "cell_type": "code",
      "source": [
        "sum(2,3)"
      ],
      "metadata": {
        "colab": {
          "base_uri": "https://localhost:8080/"
        },
        "id": "ZH7w673dtUiF",
        "outputId": "ed4665ef-901d-4d81-ba10-081560a041d7"
      },
      "execution_count": 23,
      "outputs": [
        {
          "output_type": "stream",
          "name": "stdout",
          "text": [
            "5\n"
          ]
        }
      ]
    },
    {
      "cell_type": "code",
      "source": [
        "def sum(x,y):\n",
        "  sum=x+y\n",
        "  return sum"
      ],
      "metadata": {
        "id": "nhBvtf-HtjuW"
      },
      "execution_count": 24,
      "outputs": []
    },
    {
      "cell_type": "code",
      "source": [
        "z=sum(1,2)\n",
        "print(z)"
      ],
      "metadata": {
        "colab": {
          "base_uri": "https://localhost:8080/"
        },
        "id": "RhFufUWwt7o1",
        "outputId": "5c8ad2c3-d0d1-4bcd-e8ac-20210697efd5"
      },
      "execution_count": 25,
      "outputs": [
        {
          "output_type": "stream",
          "name": "stdout",
          "text": [
            "3\n"
          ]
        }
      ]
    },
    {
      "cell_type": "code",
      "source": [
        "def multiply(x,y):\n",
        "  multiply=x*y\n",
        "  return multiply"
      ],
      "metadata": {
        "id": "SEFN1avCuGts"
      },
      "execution_count": 26,
      "outputs": []
    },
    {
      "cell_type": "code",
      "source": [
        "multiply(3,5)"
      ],
      "metadata": {
        "colab": {
          "base_uri": "https://localhost:8080/"
        },
        "id": "I6Q5eAfEvCOr",
        "outputId": "ba81a902-4d9c-4940-9bc2-a1a9302899ff"
      },
      "execution_count": 27,
      "outputs": [
        {
          "output_type": "execute_result",
          "data": {
            "text/plain": [
              "15"
            ]
          },
          "metadata": {},
          "execution_count": 27
        }
      ]
    },
    {
      "cell_type": "markdown",
      "source": [
        "---\n",
        "### Method Call\n",
        "---"
      ],
      "metadata": {
        "id": "DIuDHuJbvG-6"
      }
    },
    {
      "cell_type": "code",
      "source": [
        "def operations(x,y):\n",
        "  print(multiply(x,y))\n",
        "  print(sum(x,y))"
      ],
      "metadata": {
        "id": "jIPSXt_ovEYI"
      },
      "execution_count": 28,
      "outputs": []
    },
    {
      "cell_type": "code",
      "source": [
        "operations(7,8)"
      ],
      "metadata": {
        "colab": {
          "base_uri": "https://localhost:8080/"
        },
        "id": "JPwjT1Yev6xx",
        "outputId": "73c4bdc3-263b-4bda-ea29-a936600c00a6"
      },
      "execution_count": 29,
      "outputs": [
        {
          "output_type": "stream",
          "name": "stdout",
          "text": [
            "56\n",
            "15\n"
          ]
        }
      ]
    },
    {
      "cell_type": "markdown",
      "source": [
        "---\n",
        "### Recursion\n",
        "---"
      ],
      "metadata": {
        "id": "fem1fs4cwZH_"
      }
    },
    {
      "cell_type": "code",
      "source": [
        "def factorial(x):\n",
        "    if x == 1:\n",
        "        return 1\n",
        "    else:\n",
        "        return (x * factorial(x-1))"
      ],
      "metadata": {
        "id": "m7Y8v5I6v83O"
      },
      "execution_count": 30,
      "outputs": []
    },
    {
      "cell_type": "markdown",
      "source": [
        "factorial(3)          # 1st call with 3\n",
        "\n",
        "3 * factorial(2)      # 2nd call with 2\n",
        "\n",
        "3 * 2 * factorial(1)  # 3rd call with 1\n",
        "\n",
        "3 * 2 * 1             # return from 3rd call as number=1\n",
        "\n",
        "3 * 2                 # return from 2nd call\n",
        "\n",
        "6                     # return from 1st call"
      ],
      "metadata": {
        "id": "C8RV0KSqzNNp"
      }
    },
    {
      "cell_type": "code",
      "source": [
        "num = 3\n",
        "print(\"The factorial of\", num, \"is\", factorial(num))"
      ],
      "metadata": {
        "colab": {
          "base_uri": "https://localhost:8080/"
        },
        "id": "ZSYloKWmyQ5D",
        "outputId": "15d9ce8a-9327-448d-b51c-ba789d2a1184"
      },
      "execution_count": 32,
      "outputs": [
        {
          "output_type": "stream",
          "name": "stdout",
          "text": [
            "The factorial of 3 is 6\n"
          ]
        }
      ]
    },
    {
      "cell_type": "markdown",
      "source": [
        "---\n",
        "### Global vs. Local\n",
        "---"
      ],
      "metadata": {
        "id": "S24mmIoV1DpX"
      }
    },
    {
      "cell_type": "code",
      "source": [
        "x=\"good\"\n",
        "\n",
        "def myfunc1():\n",
        "  x=\"ok\"\n",
        "  print(\"Python is \"+x)"
      ],
      "metadata": {
        "id": "ZDwK-cSqyR17"
      },
      "execution_count": 37,
      "outputs": []
    },
    {
      "cell_type": "code",
      "source": [
        "myfunc1()"
      ],
      "metadata": {
        "colab": {
          "base_uri": "https://localhost:8080/"
        },
        "id": "rGYOQmiA3Oh3",
        "outputId": "7f995f22-a5f9-4db1-afd1-c03731031f35"
      },
      "execution_count": 38,
      "outputs": [
        {
          "output_type": "stream",
          "name": "stdout",
          "text": [
            "Python is ok\n"
          ]
        }
      ]
    },
    {
      "cell_type": "code",
      "source": [
        "print(\"Python is \"+x)"
      ],
      "metadata": {
        "colab": {
          "base_uri": "https://localhost:8080/"
        },
        "id": "_dp0ZR7F3P6m",
        "outputId": "9221bf60-b670-4a18-9e26-d84be035d70a"
      },
      "execution_count": 39,
      "outputs": [
        {
          "output_type": "stream",
          "name": "stdout",
          "text": [
            "Python is good\n"
          ]
        }
      ]
    },
    {
      "cell_type": "code",
      "source": [
        "y=\"good\"\n",
        "def myfunc2():\n",
        "  global y\n",
        "  y=\"ok\""
      ],
      "metadata": {
        "id": "trRqLs8i3TMW"
      },
      "execution_count": 41,
      "outputs": []
    },
    {
      "cell_type": "code",
      "source": [
        "myfunc2()"
      ],
      "metadata": {
        "id": "Fpbe-NW83eFO"
      },
      "execution_count": 42,
      "outputs": []
    },
    {
      "cell_type": "code",
      "source": [
        "print(\"Python is \"+y)"
      ],
      "metadata": {
        "colab": {
          "base_uri": "https://localhost:8080/"
        },
        "id": "oGUGoCYW3rxn",
        "outputId": "34660d30-bb60-479c-e620-e94d8f130597"
      },
      "execution_count": 43,
      "outputs": [
        {
          "output_type": "stream",
          "name": "stdout",
          "text": [
            "Python is ok\n"
          ]
        }
      ]
    },
    {
      "cell_type": "code",
      "source": [],
      "metadata": {
        "id": "eVX5B7DD3t-D"
      },
      "execution_count": null,
      "outputs": []
    }
  ]
}