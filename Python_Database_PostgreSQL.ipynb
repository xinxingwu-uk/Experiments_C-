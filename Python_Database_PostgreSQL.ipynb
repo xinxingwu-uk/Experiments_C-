{
  "nbformat": 4,
  "nbformat_minor": 0,
  "metadata": {
    "colab": {
      "provenance": [],
      "authorship_tag": "ABX9TyNPPgLHVq6qk8aY8HjPw2VO",
      "include_colab_link": true
    },
    "kernelspec": {
      "name": "python3",
      "display_name": "Python 3"
    },
    "language_info": {
      "name": "python"
    }
  },
  "cells": [
    {
      "cell_type": "markdown",
      "metadata": {
        "id": "view-in-github",
        "colab_type": "text"
      },
      "source": [
        "<a href=\"https://colab.research.google.com/github/xinxingwu-uk/Experiments_C_S/blob/main/Python_Database_PostgreSQL.ipynb\" target=\"_parent\"><img src=\"https://colab.research.google.com/assets/colab-badge.svg\" alt=\"Open In Colab\"/></a>"
      ]
    },
    {
      "cell_type": "code",
      "execution_count": 1,
      "metadata": {
        "id": "vLPLTGJoc5x0"
      },
      "outputs": [],
      "source": [
        "import psycopg2\n",
        "\n",
        "conn = psycopg2.connect(database=\"teachingmidway/Hello\",\n",
        "                        host=\"db.bit.io\",\n",
        "                        user=\"teachingmidway\",\n",
        "                        password=\"v2_3ySHZ_N5CKDFECkVkPebRUNLMHbVn\",\n",
        "                        port=\"5432\")"
      ]
    },
    {
      "cell_type": "code",
      "source": [
        "# Create a cursor object\n",
        "cursor = conn.cursor()"
      ],
      "metadata": {
        "id": "Lb5Dq-W3gJSZ"
      },
      "execution_count": 2,
      "outputs": []
    },
    {
      "cell_type": "code",
      "source": [
        "# Run a query\n",
        "cursor.execute('SELECT id, item_name, quantity FROM inventory;')"
      ],
      "metadata": {
        "id": "X11eiKmupJe7"
      },
      "execution_count": 3,
      "outputs": []
    },
    {
      "cell_type": "code",
      "source": [
        "# Get all the rows for that query\n",
        "items = cursor.fetchall()"
      ],
      "metadata": {
        "id": "Ew4p0nYbpRyR"
      },
      "execution_count": 4,
      "outputs": []
    },
    {
      "cell_type": "code",
      "source": [
        "results=[{'id': item[0], 'name': item[1], 'quantity': item[2]} for item in items]"
      ],
      "metadata": {
        "id": "o1TxBFW1pR4a"
      },
      "execution_count": 5,
      "outputs": []
    },
    {
      "cell_type": "code",
      "source": [
        "#print(cursor.fetchone())\n",
        "print(results)"
      ],
      "metadata": {
        "colab": {
          "base_uri": "https://localhost:8080/"
        },
        "id": "CenM5Omeo_8u",
        "outputId": "ad1a6e15-52dd-4d21-cad6-6c1d362b35ba"
      },
      "execution_count": 6,
      "outputs": [
        {
          "output_type": "stream",
          "name": "stdout",
          "text": [
            "[{'id': 1, 'name': 'Vase', 'quantity': 10}, {'id': 2, 'name': 'Bookcase', 'quantity': 5}, {'id': 3, 'name': 'Bathtowel', 'quantity': 20}]\n"
          ]
        }
      ]
    },
    {
      "cell_type": "code",
      "source": [],
      "metadata": {
        "id": "5UMhfRnyganv"
      },
      "execution_count": 6,
      "outputs": []
    }
  ]
}