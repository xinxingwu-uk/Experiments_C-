{
  "nbformat": 4,
  "nbformat_minor": 0,
  "metadata": {
    "colab": {
      "provenance": [],
      "authorship_tag": "ABX9TyO/ysZ3/HltzoeXPr3ooAKo",
      "include_colab_link": true
    },
    "kernelspec": {
      "name": "python3",
      "display_name": "Python 3"
    },
    "language_info": {
      "name": "python"
    }
  },
  "cells": [
    {
      "cell_type": "markdown",
      "metadata": {
        "id": "view-in-github",
        "colab_type": "text"
      },
      "source": [
        "<a href=\"https://colab.research.google.com/github/xinxingwu-uk/Experiments_C_S/blob/main/Week3_Lesson2.ipynb\" target=\"_parent\"><img src=\"https://colab.research.google.com/assets/colab-badge.svg\" alt=\"Open In Colab\"/></a>"
      ]
    },
    {
      "cell_type": "markdown",
      "source": [
        "---\n",
        "# Methods\n",
        "---"
      ],
      "metadata": {
        "id": "modfgkM-uUnr"
      }
    },
    {
      "cell_type": "code",
      "execution_count": 17,
      "metadata": {
        "id": "OoLwyMXHsLOe"
      },
      "outputs": [],
      "source": [
        "def Print_Somethings():\n",
        "  print(\"Hello\")"
      ]
    },
    {
      "cell_type": "code",
      "source": [
        "Print_Somethings()"
      ],
      "metadata": {
        "colab": {
          "base_uri": "https://localhost:8080/"
        },
        "id": "gZhdRaO4trvD",
        "outputId": "ce9dbd59-33a3-4053-d9d3-018c2f860ad5"
      },
      "execution_count": 18,
      "outputs": [
        {
          "output_type": "stream",
          "name": "stdout",
          "text": [
            "Hello\n"
          ]
        }
      ]
    },
    {
      "cell_type": "code",
      "source": [
        "def Print_Somethings(p_name):\n",
        "  print(\"Hello, I am \",p_name)"
      ],
      "metadata": {
        "id": "S6pqB4M1tqQU"
      },
      "execution_count": 19,
      "outputs": []
    },
    {
      "cell_type": "code",
      "source": [
        "p_name=\"Tom\"\n",
        "Print_Somethings(p_name)"
      ],
      "metadata": {
        "colab": {
          "base_uri": "https://localhost:8080/"
        },
        "id": "PxVr82CDttCu",
        "outputId": "dc1eba85-3a41-4524-d791-75a7e35a74f9"
      },
      "execution_count": 20,
      "outputs": [
        {
          "output_type": "stream",
          "name": "stdout",
          "text": [
            "Hello, I am  Tom\n"
          ]
        }
      ]
    },
    {
      "cell_type": "code",
      "source": [
        "Print_Somethings(\"Tom\")"
      ],
      "metadata": {
        "colab": {
          "base_uri": "https://localhost:8080/"
        },
        "id": "Oj6gQ50ttt46",
        "outputId": "25aba96d-6839-487e-e243-4906c92f86c2"
      },
      "execution_count": 21,
      "outputs": [
        {
          "output_type": "stream",
          "name": "stdout",
          "text": [
            "Hello, I am  Tom\n"
          ]
        }
      ]
    },
    {
      "cell_type": "code",
      "source": [
        "def sum(x,y):\n",
        "  print(x+y)"
      ],
      "metadata": {
        "id": "vY0UR9LgtUc-"
      },
      "execution_count": 22,
      "outputs": []
    },
    {
      "cell_type": "code",
      "source": [
        "sum(2,3)"
      ],
      "metadata": {
        "colab": {
          "base_uri": "https://localhost:8080/"
        },
        "id": "ZH7w673dtUiF",
        "outputId": "ed4665ef-901d-4d81-ba10-081560a041d7"
      },
      "execution_count": 23,
      "outputs": [
        {
          "output_type": "stream",
          "name": "stdout",
          "text": [
            "5\n"
          ]
        }
      ]
    },
    {
      "cell_type": "code",
      "source": [
        "def sum(x,y):\n",
        "  sum=x+y\n",
        "  return sum"
      ],
      "metadata": {
        "id": "nhBvtf-HtjuW"
      },
      "execution_count": 24,
      "outputs": []
    },
    {
      "cell_type": "code",
      "source": [
        "z=sum(1,2)\n",
        "print(z)"
      ],
      "metadata": {
        "colab": {
          "base_uri": "https://localhost:8080/"
        },
        "id": "RhFufUWwt7o1",
        "outputId": "5c8ad2c3-d0d1-4bcd-e8ac-20210697efd5"
      },
      "execution_count": 25,
      "outputs": [
        {
          "output_type": "stream",
          "name": "stdout",
          "text": [
            "3\n"
          ]
        }
      ]
    },
    {
      "cell_type": "code",
      "source": [
        "def multiply(x,y):\n",
        "  multiply=x*y\n",
        "  return multiply"
      ],
      "metadata": {
        "id": "SEFN1avCuGts"
      },
      "execution_count": 26,
      "outputs": []
    },
    {
      "cell_type": "code",
      "source": [
        "multiply(3,5)"
      ],
      "metadata": {
        "colab": {
          "base_uri": "https://localhost:8080/"
        },
        "id": "I6Q5eAfEvCOr",
        "outputId": "ba81a902-4d9c-4940-9bc2-a1a9302899ff"
      },
      "execution_count": 27,
      "outputs": [
        {
          "output_type": "execute_result",
          "data": {
            "text/plain": [
              "15"
            ]
          },
          "metadata": {},
          "execution_count": 27
        }
      ]
    },
    {
      "cell_type": "markdown",
      "source": [
        "### Method Call"
      ],
      "metadata": {
        "id": "DIuDHuJbvG-6"
      }
    },
    {
      "cell_type": "code",
      "source": [],
      "metadata": {
        "id": "jIPSXt_ovEYI"
      },
      "execution_count": null,
      "outputs": []
    }
  ]
}