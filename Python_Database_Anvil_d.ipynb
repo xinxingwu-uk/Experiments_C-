{
  "nbformat": 4,
  "nbformat_minor": 0,
  "metadata": {
    "colab": {
      "provenance": [],
      "authorship_tag": "ABX9TyPR5reD2+S+ODze0IRbGq14",
      "include_colab_link": true
    },
    "kernelspec": {
      "name": "python3",
      "display_name": "Python 3"
    },
    "language_info": {
      "name": "python"
    }
  },
  "cells": [
    {
      "cell_type": "markdown",
      "metadata": {
        "id": "view-in-github",
        "colab_type": "text"
      },
      "source": [
        "<a href=\"https://colab.research.google.com/github/xinxingwu-uk/Experiments_C_S/blob/main/Python_Database_Anvil_d.ipynb\" target=\"_parent\"><img src=\"https://colab.research.google.com/assets/colab-badge.svg\" alt=\"Open In Colab\"/></a>"
      ]
    },
    {
      "cell_type": "code",
      "source": [
        "pip install anvil-uplink"
      ],
      "metadata": {
        "colab": {
          "base_uri": "https://localhost:8080/",
          "height": 273
        },
        "id": "56C1qIbL36mU",
        "outputId": "cc96d09e-dcf9-47dd-fe2b-2423d40a3040"
      },
      "execution_count": 1,
      "outputs": [
        {
          "output_type": "stream",
          "name": "stdout",
          "text": [
            "Looking in indexes: https://pypi.org/simple, https://us-python.pkg.dev/colab-wheels/public/simple/\n",
            "Requirement already satisfied: anvil-uplink in /usr/local/lib/python3.8/dist-packages (0.4.1)\n",
            "Requirement already satisfied: ws4py in /usr/local/lib/python3.8/dist-packages (from anvil-uplink) (0.5.1)\n",
            "Requirement already satisfied: six in /usr/local/lib/python3.8/dist-packages (from anvil-uplink) (1.15.0)\n",
            "Requirement already satisfied: future in /usr/local/lib/python3.8/dist-packages (from anvil-uplink) (0.16.0)\n",
            "Collecting argparse\n",
            "  Using cached argparse-1.4.0-py2.py3-none-any.whl (23 kB)\n",
            "Installing collected packages: argparse\n",
            "Successfully installed argparse-1.4.0\n"
          ]
        },
        {
          "output_type": "display_data",
          "data": {
            "application/vnd.colab-display-data+json": {
              "pip_warning": {
                "packages": [
                  "argparse"
                ]
              }
            }
          },
          "metadata": {}
        }
      ]
    },
    {
      "cell_type": "code",
      "execution_count": 1,
      "metadata": {
        "id": "TOClbPVULPDp"
      },
      "outputs": [],
      "source": [
        "# Import the Anvil Uplink library\n",
        "import anvil.server"
      ]
    },
    {
      "cell_type": "markdown",
      "source": [
        "---\n",
        "### Below your import statements, run this line to connect to your script to your Anvil app. Replace <your-uplink-key> with the key shown in the Uplink dialog.\n",
        "---"
      ],
      "metadata": {
        "id": "RsMLHDjnMGMm"
      }
    },
    {
      "cell_type": "code",
      "source": [
        "# Connect to your Anvil app\n",
        "anvil.server.connect('3B3UQUCF47G5PBZ4Q5OBI6SK-53BU5OOJWLMTLQVS')"
      ],
      "metadata": {
        "colab": {
          "base_uri": "https://localhost:8080/"
        },
        "id": "f82s5JRyLhe7",
        "outputId": "b9ed4a23-145a-463e-d6d7-3f05f783840e"
      },
      "execution_count": 2,
      "outputs": [
        {
          "output_type": "stream",
          "name": "stdout",
          "text": [
            "Connecting to wss://anvil.works/uplink\n",
            "Anvil websocket open\n",
            "Connected to \"Default environment\" as SERVER\n"
          ]
        }
      ]
    },
    {
      "cell_type": "code",
      "source": [
        "import psycopg2\n",
        "\n",
        "conn = psycopg2.connect(database=\"teachingmidway/Hello\",\n",
        "                        host=\"db.bit.io\",\n",
        "                        user=\"teachingmidway\",\n",
        "                        password=\"v2_3ySHZ_N5CKDFECkVkPebRUNLMHbVn\",\n",
        "                        port=\"5432\")"
      ],
      "metadata": {
        "id": "QtddksxYMxfx"
      },
      "execution_count": 3,
      "outputs": []
    },
    {
      "cell_type": "code",
      "source": [
        "conn.set_session(autocommit=True)\n",
        "\n",
        "cur = conn.cursor()"
      ],
      "metadata": {
        "id": "6nodK7iNM03w"
      },
      "execution_count": 4,
      "outputs": []
    },
    {
      "cell_type": "markdown",
      "source": [
        "---\n",
        "@anvil.server.callable\n",
        "def update_item(item_id, name, quantity):\n",
        "  cur.execute(''' UPDATE inventory SET item_name = %s, quantity = %s WHERE id = %s; ''', \n",
        "  [name, quantity, item_id])\n",
        "\n",
        "anvil.server.wait_forever()\n",
        "\n",
        "---\n",
        "@anvil.server.callable\n",
        "def insert_item(name, quantity):\n",
        "  cur.execute('''INSERT INTO inventory (name, quantity) VALUES (%s, %s);''',[name, quantity])\n",
        "anvil.server.wait_forever()"
      ],
      "metadata": {
        "id": "IxBfSojhbMsG"
      }
    },
    {
      "cell_type": "markdown",
      "source": [],
      "metadata": {
        "id": "SPRSycTxd8XZ"
      }
    },
    {
      "cell_type": "code",
      "source": [
        "@anvil.server.callable\n",
        "def get_items():\n",
        "  cur.execute('SELECT * FROM inventory;')\n",
        "  items = cur.fetchall()\n",
        "  return [\n",
        "    {'id': item[0], 'name': item[1], 'quantity': item[2]}\n",
        "    for item in items\n",
        "  ]\n",
        "\n",
        "@anvil.server.callable\n",
        "def insert_item(name, quantity):\n",
        "  cur.execute('''INSERT INTO inventory (name, quantity) VALUES (%s, %s);''',[name, quantity])\n",
        "\n",
        "@anvil.server.callable\n",
        "def update_item(id, name, quantity):\n",
        "  cur.execute('''UPDATE inventory SET name = %s, quantity = %s WHERE id = %s; ''', [name, quantity, id])\n",
        "\n",
        "@anvil.server.callable\n",
        "def delete_item(id):\n",
        "  cur.execute('''DELETE FROM inventory WHERE id = %s; ''',[id])\n",
        "\n",
        "anvil.server.wait_forever()"
      ],
      "metadata": {
        "id": "cfoxO4iiM4lE",
        "colab": {
          "base_uri": "https://localhost:8080/",
          "height": 135
        },
        "outputId": "1e058532-3398-45d5-cf67-699890ec4c9a"
      },
      "execution_count": 6,
      "outputs": [
        {
          "output_type": "error",
          "ename": "SyntaxError",
          "evalue": "ignored",
          "traceback": [
            "\u001b[0;36m  File \u001b[0;32m\"<ipython-input-6-c6528ad8491e>\"\u001b[0;36m, line \u001b[0;32m13\u001b[0m\n\u001b[0;31m    cur.execute('''INSERT INTO inventory (name, quantity) VALUES (%s, %s);''',[name, quantity])\u001b[0m\n\u001b[0m                   ^\u001b[0m\n\u001b[0;31mSyntaxError\u001b[0m\u001b[0;31m:\u001b[0m invalid syntax\n"
          ]
        }
      ]
    },
    {
      "cell_type": "code",
      "source": [],
      "metadata": {
        "id": "3vUC8S9aGo7-"
      },
      "execution_count": null,
      "outputs": []
    }
  ]
}