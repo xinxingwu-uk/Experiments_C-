{
  "nbformat": 4,
  "nbformat_minor": 0,
  "metadata": {
    "colab": {
      "provenance": [],
      "authorship_tag": "ABX9TyM6ivzNAD6CNzqOinVA14ZG",
      "include_colab_link": true
    },
    "kernelspec": {
      "name": "python3",
      "display_name": "Python 3"
    },
    "language_info": {
      "name": "python"
    }
  },
  "cells": [
    {
      "cell_type": "markdown",
      "metadata": {
        "id": "view-in-github",
        "colab_type": "text"
      },
      "source": [
        "<a href=\"https://colab.research.google.com/github/xinxingwu-uk/Experiments_C_S/blob/main/Python_Database_Anvil_b.ipynb\" target=\"_parent\"><img src=\"https://colab.research.google.com/assets/colab-badge.svg\" alt=\"Open In Colab\"/></a>"
      ]
    },
    {
      "cell_type": "code",
      "source": [
        "pip install anvil-uplink"
      ],
      "metadata": {
        "colab": {
          "base_uri": "https://localhost:8080/",
          "height": 457
        },
        "id": "56C1qIbL36mU",
        "outputId": "40fae475-4fe3-49b7-c72f-7e399386793e"
      },
      "execution_count": 1,
      "outputs": [
        {
          "output_type": "stream",
          "name": "stdout",
          "text": [
            "Looking in indexes: https://pypi.org/simple, https://us-python.pkg.dev/colab-wheels/public/simple/\n",
            "Collecting anvil-uplink\n",
            "  Downloading anvil_uplink-0.4.1-py2.py3-none-any.whl (87 kB)\n",
            "\u001b[2K     \u001b[90m━━━━━━━━━━━━━━━━━━━━━━━━━━━━━━━━━━━━━━━━\u001b[0m \u001b[32m88.0/88.0 KB\u001b[0m \u001b[31m5.8 MB/s\u001b[0m eta \u001b[36m0:00:00\u001b[0m\n",
            "\u001b[?25hCollecting ws4py\n",
            "  Downloading ws4py-0.5.1.tar.gz (51 kB)\n",
            "\u001b[2K     \u001b[90m━━━━━━━━━━━━━━━━━━━━━━━━━━━━━━━━━━━━━━━━\u001b[0m \u001b[32m51.4/51.4 KB\u001b[0m \u001b[31m7.2 MB/s\u001b[0m eta \u001b[36m0:00:00\u001b[0m\n",
            "\u001b[?25h  Preparing metadata (setup.py) ... \u001b[?25l\u001b[?25hdone\n",
            "Collecting argparse\n",
            "  Downloading argparse-1.4.0-py2.py3-none-any.whl (23 kB)\n",
            "Requirement already satisfied: future in /usr/local/lib/python3.8/dist-packages (from anvil-uplink) (0.16.0)\n",
            "Requirement already satisfied: six in /usr/local/lib/python3.8/dist-packages (from anvil-uplink) (1.15.0)\n",
            "Building wheels for collected packages: ws4py\n",
            "  Building wheel for ws4py (setup.py) ... \u001b[?25l\u001b[?25hdone\n",
            "  Created wheel for ws4py: filename=ws4py-0.5.1-py3-none-any.whl size=45229 sha256=9d1bc667c73bf666ca90ee2df02459a9e8246fdd553e621f222fdcebfd077d46\n",
            "  Stored in directory: /root/.cache/pip/wheels/ea/f9/a1/34e2943cce3cf7daca304bfc35e91280694ced9194a487ce2f\n",
            "Successfully built ws4py\n",
            "Installing collected packages: ws4py, argparse, anvil-uplink\n",
            "Successfully installed anvil-uplink-0.4.1 argparse-1.4.0 ws4py-0.5.1\n"
          ]
        },
        {
          "output_type": "display_data",
          "data": {
            "application/vnd.colab-display-data+json": {
              "pip_warning": {
                "packages": [
                  "argparse",
                  "google"
                ]
              }
            }
          },
          "metadata": {}
        }
      ]
    },
    {
      "cell_type": "code",
      "execution_count": 1,
      "metadata": {
        "id": "TOClbPVULPDp"
      },
      "outputs": [],
      "source": [
        "# Import the Anvil Uplink library\n",
        "import anvil.server"
      ]
    },
    {
      "cell_type": "markdown",
      "source": [
        "---\n",
        "### Below your import statements, run this line to connect to your script to your Anvil app. Replace <your-uplink-key> with the key shown in the Uplink dialog.\n",
        "---"
      ],
      "metadata": {
        "id": "RsMLHDjnMGMm"
      }
    },
    {
      "cell_type": "code",
      "source": [
        "# Connect to your Anvil app\n",
        "anvil.server.connect('3B3UQUCF47G5PBZ4Q5OBI6SK-53BU5OOJWLMTLQVS')"
      ],
      "metadata": {
        "colab": {
          "base_uri": "https://localhost:8080/"
        },
        "id": "f82s5JRyLhe7",
        "outputId": "2616cedc-c612-4164-cd19-66c7078a134b"
      },
      "execution_count": 2,
      "outputs": [
        {
          "output_type": "stream",
          "name": "stdout",
          "text": [
            "Connecting to wss://anvil.works/uplink\n",
            "Anvil websocket open\n",
            "Connected to \"Default environment\" as SERVER\n"
          ]
        }
      ]
    },
    {
      "cell_type": "code",
      "source": [
        "import psycopg2\n",
        "\n",
        "conn = psycopg2.connect(database=\"teachingmidway/Hello\",\n",
        "                        host=\"db.bit.io\",\n",
        "                        user=\"teachingmidway\",\n",
        "                        password=\"v2_3ySHZ_N5CKDFECkVkPebRUNLMHbVn\",\n",
        "                        port=\"5432\")"
      ],
      "metadata": {
        "id": "QtddksxYMxfx"
      },
      "execution_count": 3,
      "outputs": []
    },
    {
      "cell_type": "code",
      "source": [
        "conn.set_session(autocommit=True)\n",
        "\n",
        "cur = conn.cursor()"
      ],
      "metadata": {
        "id": "6nodK7iNM03w"
      },
      "execution_count": 4,
      "outputs": []
    },
    {
      "cell_type": "markdown",
      "source": [
        "---\n",
        "@anvil.server.callable\n",
        "def update_item(item_id, name, quantity):\n",
        "  cur.execute(''' UPDATE inventory SET item_name = %s, quantity = %s WHERE id = %s; ''', \n",
        "  [name, quantity, item_id])\n",
        "\n",
        "anvil.server.wait_forever()\n",
        "\n",
        "---\n",
        "@anvil.server.callable\n",
        "def insert_item(name, quantity):\n",
        "  cur.execute('''INSERT INTO inventory (name, quantity) VALUES (%s, %s);''',[name, quantity])\n",
        "anvil.server.wait_forever()"
      ],
      "metadata": {
        "id": "IxBfSojhbMsG"
      }
    },
    {
      "cell_type": "code",
      "source": [
        "@anvil.server.callable\n",
        "def get_items():\n",
        "  cur.execute('SELECT * FROM inventory;')\n",
        "  items = cur.fetchall()\n",
        "  return [\n",
        "    {'id': item[0], 'name': item[1], 'quantity': item[2]}\n",
        "    for item in items\n",
        "  ]\n",
        "\n",
        "@anvil.server.callable\n",
        "def insert_item(name, quantity):\n",
        "  cur.execute('''INSERT INTO inventory (name, quantity) VALUES (%s, %s);''',[name, quantity])\n",
        "\n",
        "anvil.server.wait_forever()"
      ],
      "metadata": {
        "id": "cfoxO4iiM4lE",
        "colab": {
          "base_uri": "https://localhost:8080/",
          "height": 689
        },
        "outputId": "e63b1570-5345-435d-ba19-c78964e734ab"
      },
      "execution_count": 9,
      "outputs": [
        {
          "output_type": "stream",
          "name": "stdout",
          "text": [
            "(1, 'Bottle', 5)\n",
            "(1, 'Bottle', 5)\n",
            "(1, 'Bottle', 5)\n",
            "(1, 'Bottle', 5)\n",
            "(1, 'Bottle', 5)\n",
            "(1, 'Bottle', 5)\n",
            "(1, 'Bottle', 5)\n",
            "(1, 'Bottle', 5)\n",
            "(None, '', None)\n",
            "(None, '', None)\n",
            "(None, '', None)\n",
            "(None, '', None)\n",
            "(1, 'Bottle', 5)\n",
            "(1, 'Bottle', 5)\n",
            "(1, 'Bottle', 5)\n",
            "(1, 'Bottle', 5)\n",
            "(1, 'Bottle', 5)\n",
            "(1, 'Bottle', 5)\n",
            "(1, 'Bottle', 5)\n",
            "(1, 'Bottle', 5)\n",
            "(1, 'Bottle', 5)\n"
          ]
        },
        {
          "output_type": "error",
          "ename": "KeyboardInterrupt",
          "evalue": "ignored",
          "traceback": [
            "\u001b[0;31m---------------------------------------------------------------------------\u001b[0m",
            "\u001b[0;31mKeyboardInterrupt\u001b[0m                         Traceback (most recent call last)",
            "\u001b[0;32m<ipython-input-9-824c601ed9d5>\u001b[0m in \u001b[0;36m<module>\u001b[0;34m\u001b[0m\n\u001b[1;32m     13\u001b[0m   \u001b[0mcur\u001b[0m\u001b[0;34m.\u001b[0m\u001b[0mexecute\u001b[0m\u001b[0;34m(\u001b[0m\u001b[0;34m'''INSERT INTO inventory (name, quantity) VALUES (%s, %s);'''\u001b[0m\u001b[0;34m,\u001b[0m\u001b[0;34m[\u001b[0m\u001b[0mname\u001b[0m\u001b[0;34m,\u001b[0m \u001b[0mquantity\u001b[0m\u001b[0;34m]\u001b[0m\u001b[0;34m)\u001b[0m\u001b[0;34m\u001b[0m\u001b[0;34m\u001b[0m\u001b[0m\n\u001b[1;32m     14\u001b[0m \u001b[0;34m\u001b[0m\u001b[0m\n\u001b[0;32m---> 15\u001b[0;31m \u001b[0manvil\u001b[0m\u001b[0;34m.\u001b[0m\u001b[0mserver\u001b[0m\u001b[0;34m.\u001b[0m\u001b[0mwait_forever\u001b[0m\u001b[0;34m(\u001b[0m\u001b[0;34m)\u001b[0m\u001b[0;34m\u001b[0m\u001b[0;34m\u001b[0m\u001b[0m\n\u001b[0m",
            "\u001b[0;32m/usr/local/lib/python3.8/dist-packages/anvil/server.py\u001b[0m in \u001b[0;36mwait_forever\u001b[0;34m()\u001b[0m\n\u001b[1;32m    432\u001b[0m     \u001b[0m_get_connection\u001b[0m\u001b[0;34m(\u001b[0m\u001b[0;34m)\u001b[0m\u001b[0;34m\u001b[0m\u001b[0;34m\u001b[0m\u001b[0m\n\u001b[1;32m    433\u001b[0m     \u001b[0;32mwhile\u001b[0m \u001b[0;32mTrue\u001b[0m\u001b[0;34m:\u001b[0m\u001b[0;34m\u001b[0m\u001b[0;34m\u001b[0m\u001b[0m\n\u001b[0;32m--> 434\u001b[0;31m         \u001b[0mtime\u001b[0m\u001b[0;34m.\u001b[0m\u001b[0msleep\u001b[0m\u001b[0;34m(\u001b[0m\u001b[0;36m1\u001b[0m\u001b[0;34m)\u001b[0m\u001b[0;34m\u001b[0m\u001b[0;34m\u001b[0m\u001b[0m\n\u001b[0m",
            "\u001b[0;31mKeyboardInterrupt\u001b[0m: "
          ]
        }
      ]
    },
    {
      "cell_type": "code",
      "source": [],
      "metadata": {
        "id": "8m1ertxTPFxt"
      },
      "execution_count": null,
      "outputs": []
    }
  ]
}