{
  "nbformat": 4,
  "nbformat_minor": 0,
  "metadata": {
    "colab": {
      "provenance": [],
      "authorship_tag": "ABX9TyOO1RCsSI2UyisaO/cv5JJ5",
      "include_colab_link": true
    },
    "kernelspec": {
      "name": "python3",
      "display_name": "Python 3"
    },
    "language_info": {
      "name": "python"
    }
  },
  "cells": [
    {
      "cell_type": "markdown",
      "metadata": {
        "id": "view-in-github",
        "colab_type": "text"
      },
      "source": [
        "<a href=\"https://colab.research.google.com/github/xinxingwu-uk/Experiments_C_S/blob/main/MostFrequentNumbers1.ipynb\" target=\"_parent\"><img src=\"https://colab.research.google.com/assets/colab-badge.svg\" alt=\"Open In Colab\"/></a>"
      ]
    },
    {
      "cell_type": "code",
      "source": [
        "import collections"
      ],
      "metadata": {
        "id": "FGTl9ObY03l_"
      },
      "execution_count": null,
      "outputs": []
    },
    {
      "cell_type": "code",
      "execution_count": null,
      "metadata": {
        "id": "nzyRBsKqxN66"
      },
      "outputs": [],
      "source": [
        "nums = [4,4,4,9,2,4]"
      ]
    },
    {
      "cell_type": "code",
      "source": [
        "frequencyDict = collections.Counter(nums)"
      ],
      "metadata": {
        "id": "ADdkn04-ysjO"
      },
      "execution_count": null,
      "outputs": []
    },
    {
      "cell_type": "code",
      "source": [
        "frequencyDict_even={}\n",
        "for key_i in frequencyDict.keys():\n",
        "  if key_i%2==0:\n",
        "    frequencyDict_even[key_i]=frequencyDict[key_i]"
      ],
      "metadata": {
        "id": "KzkyWHKqpjTj"
      },
      "execution_count": null,
      "outputs": []
    },
    {
      "cell_type": "code",
      "source": [
        "max_store = {}\n",
        "max_value = max(frequencyDict_even.values())\n",
        "for key_j, value_j in frequencyDict_even.items():\n",
        "\tif value_j == max_value:\n",
        "\t\tmax_store[key_j]=value_j"
      ],
      "metadata": {
        "id": "O5oQVMC5zdl8"
      },
      "execution_count": null,
      "outputs": []
    },
    {
      "cell_type": "code",
      "source": [
        "max_store"
      ],
      "metadata": {
        "id": "VUZwFoz7yxMU",
        "colab": {
          "base_uri": "https://localhost:8080/"
        },
        "outputId": "e926e0ec-0096-488f-dc80-bc7b1d5e59d7"
      },
      "execution_count": null,
      "outputs": [
        {
          "output_type": "execute_result",
          "data": {
            "text/plain": [
              "{4: 4}"
            ]
          },
          "metadata": {},
          "execution_count": 7
        }
      ]
    },
    {
      "cell_type": "code",
      "source": [
        "min(max_store.keys())"
      ],
      "metadata": {
        "colab": {
          "base_uri": "https://localhost:8080/"
        },
        "id": "XmzVymilnhah",
        "outputId": "f24a04d1-bd58-4136-ecb5-0cdcc358c7d6"
      },
      "execution_count": null,
      "outputs": [
        {
          "output_type": "execute_result",
          "data": {
            "text/plain": [
              "4"
            ]
          },
          "metadata": {},
          "execution_count": 8
        }
      ]
    },
    {
      "cell_type": "code",
      "source": [],
      "metadata": {
        "id": "bbjA8--t1p8u"
      },
      "execution_count": null,
      "outputs": []
    },
    {
      "cell_type": "code",
      "source": [],
      "metadata": {
        "id": "RqRzPBG41PI0"
      },
      "execution_count": null,
      "outputs": []
    }
  ]
}