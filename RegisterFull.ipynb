{
  "nbformat": 4,
  "nbformat_minor": 0,
  "metadata": {
    "colab": {
      "provenance": [],
      "authorship_tag": "ABX9TyOEt3hozpR9dIpiY/xP1qea",
      "include_colab_link": true
    },
    "kernelspec": {
      "name": "python3",
      "display_name": "Python 3"
    },
    "language_info": {
      "name": "python"
    }
  },
  "cells": [
    {
      "cell_type": "markdown",
      "metadata": {
        "id": "view-in-github",
        "colab_type": "text"
      },
      "source": [
        "<a href=\"https://colab.research.google.com/github/xinxingwu-uk/Experiments_C_S/blob/main/RegisterFull.ipynb\" target=\"_parent\"><img src=\"https://colab.research.google.com/assets/colab-badge.svg\" alt=\"Open In Colab\"/></a>"
      ]
    },
    {
      "cell_type": "code",
      "execution_count": 1,
      "metadata": {
        "id": "6A3Mpuzreg6q"
      },
      "outputs": [],
      "source": [
        "import sqlite3"
      ]
    },
    {
      "cell_type": "markdown",
      "source": [
        "---\n",
        "# Login path\n",
        "---"
      ],
      "metadata": {
        "id": "epj5I9j8ZyGm"
      }
    },
    {
      "cell_type": "code",
      "source": [
        "path=\"/content/UserNames.db\""
      ],
      "metadata": {
        "id": "MQ4XG5WDlUDe"
      },
      "execution_count": 2,
      "outputs": []
    },
    {
      "cell_type": "markdown",
      "source": [
        "---\n",
        "# Connect database and show how many tables\n",
        "---"
      ],
      "metadata": {
        "id": "vStRLVaGZ2AU"
      }
    },
    {
      "cell_type": "code",
      "source": [
        "#Step 1 — Creating a Connection to a SQLite Database\n",
        "connection = sqlite3.connect(path)\n",
        "#print(connection.total_changes)\n",
        "\n",
        "cursor = connection.cursor()\n",
        "cursor.execute(\"SELECT name FROM sqlite_master WHERE type='table';\")\n",
        "myresult = cursor.fetchall()\n",
        "\n",
        "print(myresult)"
      ],
      "metadata": {
        "id": "QzUCuc34lgGo",
        "colab": {
          "base_uri": "https://localhost:8080/"
        },
        "outputId": "88a3c68e-6343-4efc-92bc-878edd03b24d"
      },
      "execution_count": 3,
      "outputs": [
        {
          "output_type": "stream",
          "name": "stdout",
          "text": [
            "[('users',)]\n"
          ]
        }
      ]
    },
    {
      "cell_type": "markdown",
      "source": [
        "---"
      ],
      "metadata": {
        "id": "Igh108aUZ7z4"
      }
    },
    {
      "cell_type": "code",
      "source": [
        "def usernameExist(path,tablename,username):\n",
        "  connection = sqlite3.connect(path)\n",
        "  cursor = connection.cursor()\n",
        "  rows = cursor.execute(\"SELECT COUNT(*) FROM \"+tablename+\" WHERE username='\"+username+\"';\").fetchall()\n",
        "  return len(rows)\n",
        "\n",
        "def connectDatabase(path,tablename,username,password):\n",
        "  connection = sqlite3.connect(path)\n",
        "  cursor = connection.cursor()\n",
        "  rows = cursor.execute(\"INSERT INTO \"+tablename+\" VALUES ('\"+username+\"','\"+password+\"');\")\n",
        "  connection.commit()"
      ],
      "metadata": {
        "id": "VfwJgXpJn8u5"
      },
      "execution_count": 4,
      "outputs": []
    },
    {
      "cell_type": "markdown",
      "source": [
        "---\n",
        "# Let users give name and password\n",
        "---"
      ],
      "metadata": {
        "id": "tcaCDXapaJko"
      }
    },
    {
      "cell_type": "code",
      "source": [
        "username=input(\"Please enter your name \")"
      ],
      "metadata": {
        "id": "iZkThcOfso9t",
        "colab": {
          "base_uri": "https://localhost:8080/"
        },
        "outputId": "e7471a45-c544-406b-80e0-991ea07b0013"
      },
      "execution_count": 5,
      "outputs": [
        {
          "name": "stdout",
          "output_type": "stream",
          "text": [
            "Please enter your name boss\n"
          ]
        }
      ]
    },
    {
      "cell_type": "code",
      "source": [
        "password=input(\"Please enter your password \")"
      ],
      "metadata": {
        "id": "LgKE_QnMtGmi",
        "colab": {
          "base_uri": "https://localhost:8080/"
        },
        "outputId": "a45fdd90-e311-4b73-92ed-8b17c37a5891"
      },
      "execution_count": 6,
      "outputs": [
        {
          "name": "stdout",
          "output_type": "stream",
          "text": [
            "Please enter your password 1234\n"
          ]
        }
      ]
    },
    {
      "cell_type": "markdown",
      "source": [
        "---\n",
        "# Check username and password\n",
        "---"
      ],
      "metadata": {
        "id": "LOn13qxCaOq1"
      }
    },
    {
      "cell_type": "code",
      "source": [
        "tablename=\"users\"\n",
        "returnRow=usernameExist(path,tablename,username)\n",
        "\n",
        "if returnRow>0:\n",
        "  print(\"Register is failed :-(\")\n",
        "else:\n",
        "  connectDatabase(path,tablename,username,password)\n",
        "  print(\"Register is successful :-) \")\n",
        "\n",
        "  cursor = connection.cursor()\n",
        "  rows = cursor.execute(\"SELECT * FROM \"+tablename).fetchall()\n",
        "  print(rows)\n"
      ],
      "metadata": {
        "colab": {
          "base_uri": "https://localhost:8080/"
        },
        "id": "gamnzciygVd5",
        "outputId": "62ff1ebb-3474-42f5-fcf5-92ff0842c49e"
      },
      "execution_count": 7,
      "outputs": [
        {
          "output_type": "stream",
          "name": "stdout",
          "text": [
            "Register is failed :-(\n"
          ]
        }
      ]
    },
    {
      "cell_type": "code",
      "source": [],
      "metadata": {
        "id": "g5-PwBwMeGm7"
      },
      "execution_count": 7,
      "outputs": []
    }
  ]
}